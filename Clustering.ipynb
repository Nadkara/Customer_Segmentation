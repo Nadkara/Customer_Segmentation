{
 "cells": [
  {
   "cell_type": "markdown",
   "metadata": {},
   "source": [
    "### Problem formulation"
   ]
  },
  {
   "cell_type": "markdown",
   "metadata": {},
   "source": [
    "1. Create a Segmentation with customers who behave the same\n",
    "2. Investigate what are the common traits / behaviours in each Segment / Cluster\n",
    "3. Deploy our results in Power BI for the business to use\n",
    "4. Automate all this process for future data"
   ]
  },
  {
   "cell_type": "markdown",
   "metadata": {},
   "source": [
    "### Importing / Installing packages"
   ]
  },
  {
   "cell_type": "code",
   "execution_count": 56,
   "metadata": {},
   "outputs": [],
   "source": [
    "# Packages / libraries\n",
    "import os #provides functions for interacting with the operating system\n",
    "import numpy as np \n",
    "import pandas as pd\n",
    "from matplotlib import pyplot as plt\n",
    "import seaborn as sns\n",
    "from sklearn.linear_model import LinearRegression\n",
    "from sklearn.linear_model import LogisticRegression\n",
    "from sklearn.tree import DecisionTreeClassifier\n",
    "from sklearn.model_selection import train_test_split\n",
    "from sklearn.metrics import r2_score, explained_variance_score, confusion_matrix, accuracy_score, classification_report, log_loss\n",
    "from math import sqrt\n",
    "\n",
    "from sklearn.cluster import KMeans, k_means\n",
    "\n",
    "%matplotlib inline\n",
    "\n",
    "# To install sklearn type \"pip install numpy scipy scikit-learn\" to the anaconda terminal\n",
    "\n",
    "# To change scientific numbers to float\n",
    "np.set_printoptions(formatter={'float_kind':'{:f}'.format})\n",
    "\n",
    "# Increases the size of sns plots\n",
    "sns.set(rc={'figure.figsize':(8,6)})\n",
    "\n",
    "# import sys\n",
    "# !conda list Check the packages installed"
   ]
  },
  {
   "cell_type": "markdown",
   "metadata": {},
   "source": [
    "### Loading the joined_tables.csv into Python"
   ]
  },
  {
   "cell_type": "code",
   "execution_count": 57,
   "metadata": {},
   "outputs": [
    {
     "name": "stdout",
     "output_type": "stream",
     "text": [
      "(200, 19)\n"
     ]
    },
    {
     "data": {
      "text/html": [
       "<div>\n",
       "<style scoped>\n",
       "    .dataframe tbody tr th:only-of-type {\n",
       "        vertical-align: middle;\n",
       "    }\n",
       "\n",
       "    .dataframe tbody tr th {\n",
       "        vertical-align: top;\n",
       "    }\n",
       "\n",
       "    .dataframe thead th {\n",
       "        text-align: right;\n",
       "    }\n",
       "</style>\n",
       "<table border=\"1\" class=\"dataframe\">\n",
       "  <thead>\n",
       "    <tr style=\"text-align: right;\">\n",
       "      <th></th>\n",
       "      <th>Customer ID</th>\n",
       "      <th>Gender</th>\n",
       "      <th>DOB</th>\n",
       "      <th>Age</th>\n",
       "      <th>Age Range</th>\n",
       "      <th>Work Activity</th>\n",
       "      <th>Income</th>\n",
       "      <th>Income Range</th>\n",
       "      <th>Marital Status</th>\n",
       "      <th>Habitation</th>\n",
       "      <th>Trans Description</th>\n",
       "      <th>Trans Amount</th>\n",
       "      <th>Trans Date</th>\n",
       "      <th>Trans Category</th>\n",
       "      <th>Bank Branch</th>\n",
       "      <th>Account Type</th>\n",
       "      <th>Account Balance</th>\n",
       "      <th>Currency</th>\n",
       "      <th>Account Balance Range</th>\n",
       "    </tr>\n",
       "  </thead>\n",
       "  <tbody>\n",
       "    <tr>\n",
       "      <th>0</th>\n",
       "      <td>fe51c153-fbec-4b64-9b00-2530035ef0e1_981fa431-...</td>\n",
       "      <td>Male</td>\n",
       "      <td>1996-10-21</td>\n",
       "      <td>25</td>\n",
       "      <td>20 - 29</td>\n",
       "      <td>parttime</td>\n",
       "      <td>15695.79</td>\n",
       "      <td>10K - 20K</td>\n",
       "      <td>Single</td>\n",
       "      <td>With Parent</td>\n",
       "      <td>ADP PMT 98930808</td>\n",
       "      <td>6278.32</td>\n",
       "      <td>2018-03-01</td>\n",
       "      <td>Income</td>\n",
       "      <td>1354</td>\n",
       "      <td>DDA</td>\n",
       "      <td>12215.43</td>\n",
       "      <td>CAD</td>\n",
       "      <td>10K-20K</td>\n",
       "    </tr>\n",
       "    <tr>\n",
       "      <th>1</th>\n",
       "      <td>fe51c153-fbec-4b64-9b00-2530035ef0e1_981fa431-...</td>\n",
       "      <td>Male</td>\n",
       "      <td>1996-10-21</td>\n",
       "      <td>25</td>\n",
       "      <td>20 - 29</td>\n",
       "      <td>parttime</td>\n",
       "      <td>15695.79</td>\n",
       "      <td>10K - 20K</td>\n",
       "      <td>Single</td>\n",
       "      <td>With Parent</td>\n",
       "      <td>ADP PMT 98930808</td>\n",
       "      <td>6278.32</td>\n",
       "      <td>2018-03-01</td>\n",
       "      <td>Income</td>\n",
       "      <td>1354</td>\n",
       "      <td>SDA</td>\n",
       "      <td>6328.32</td>\n",
       "      <td>CAD</td>\n",
       "      <td>2K-10K</td>\n",
       "    </tr>\n",
       "    <tr>\n",
       "      <th>2</th>\n",
       "      <td>fe51c153-fbec-4b64-9b00-2530035ef0e1_4ee15e88-...</td>\n",
       "      <td>Male</td>\n",
       "      <td>1935-04-05</td>\n",
       "      <td>86</td>\n",
       "      <td>Above 70</td>\n",
       "      <td>other</td>\n",
       "      <td>25078.90</td>\n",
       "      <td>20K - 30K</td>\n",
       "      <td>Married</td>\n",
       "      <td>With Spouse</td>\n",
       "      <td>GC 2894-TRANSFER</td>\n",
       "      <td>10031.56</td>\n",
       "      <td>2018-03-01</td>\n",
       "      <td>Transfer</td>\n",
       "      <td>658</td>\n",
       "      <td>DDA</td>\n",
       "      <td>4292.99</td>\n",
       "      <td>CAD</td>\n",
       "      <td>2K-10K</td>\n",
       "    </tr>\n",
       "    <tr>\n",
       "      <th>3</th>\n",
       "      <td>fe51c153-fbec-4b64-9b00-2530035ef0e1_4ee15e88-...</td>\n",
       "      <td>Male</td>\n",
       "      <td>1935-04-05</td>\n",
       "      <td>86</td>\n",
       "      <td>Above 70</td>\n",
       "      <td>other</td>\n",
       "      <td>25078.90</td>\n",
       "      <td>20K - 30K</td>\n",
       "      <td>Married</td>\n",
       "      <td>With Spouse</td>\n",
       "      <td>GC 2894-TRANSFER</td>\n",
       "      <td>10031.56</td>\n",
       "      <td>2018-03-01</td>\n",
       "      <td>Transfer</td>\n",
       "      <td>658</td>\n",
       "      <td>SDA</td>\n",
       "      <td>10231.56</td>\n",
       "      <td>CAD</td>\n",
       "      <td>10K-20K</td>\n",
       "    </tr>\n",
       "    <tr>\n",
       "      <th>4</th>\n",
       "      <td>fe51c153-fbec-4b64-9b00-2530035ef0e1_62d5c5a6-...</td>\n",
       "      <td>Male</td>\n",
       "      <td>1987-12-27</td>\n",
       "      <td>34</td>\n",
       "      <td>30 - 49</td>\n",
       "      <td>parttime</td>\n",
       "      <td>5051.31</td>\n",
       "      <td>Below 10K</td>\n",
       "      <td>Single</td>\n",
       "      <td>With Parent</td>\n",
       "      <td>NSF FEE</td>\n",
       "      <td>48.00</td>\n",
       "      <td>2018-03-31</td>\n",
       "      <td>Transfer</td>\n",
       "      <td>1864</td>\n",
       "      <td>DDA</td>\n",
       "      <td>2904.83</td>\n",
       "      <td>CAD</td>\n",
       "      <td>2K-10K</td>\n",
       "    </tr>\n",
       "  </tbody>\n",
       "</table>\n",
       "</div>"
      ],
      "text/plain": [
       "                                         Customer ID Gender         DOB  Age  \\\n",
       "0  fe51c153-fbec-4b64-9b00-2530035ef0e1_981fa431-...   Male  1996-10-21   25   \n",
       "1  fe51c153-fbec-4b64-9b00-2530035ef0e1_981fa431-...   Male  1996-10-21   25   \n",
       "2  fe51c153-fbec-4b64-9b00-2530035ef0e1_4ee15e88-...   Male  1935-04-05   86   \n",
       "3  fe51c153-fbec-4b64-9b00-2530035ef0e1_4ee15e88-...   Male  1935-04-05   86   \n",
       "4  fe51c153-fbec-4b64-9b00-2530035ef0e1_62d5c5a6-...   Male  1987-12-27   34   \n",
       "\n",
       "  Age Range Work Activity    Income Income Range Marital Status   Habitation  \\\n",
       "0   20 - 29      parttime  15695.79    10K - 20K         Single  With Parent   \n",
       "1   20 - 29      parttime  15695.79    10K - 20K         Single  With Parent   \n",
       "2  Above 70         other  25078.90    20K - 30K        Married  With Spouse   \n",
       "3  Above 70         other  25078.90    20K - 30K        Married  With Spouse   \n",
       "4   30 - 49      parttime   5051.31    Below 10K         Single  With Parent   \n",
       "\n",
       "  Trans Description  Trans Amount  Trans Date Trans Category  Bank Branch  \\\n",
       "0  ADP PMT 98930808       6278.32  2018-03-01         Income         1354   \n",
       "1  ADP PMT 98930808       6278.32  2018-03-01         Income         1354   \n",
       "2  GC 2894-TRANSFER      10031.56  2018-03-01       Transfer          658   \n",
       "3  GC 2894-TRANSFER      10031.56  2018-03-01       Transfer          658   \n",
       "4           NSF FEE         48.00  2018-03-31       Transfer         1864   \n",
       "\n",
       "  Account Type  Account Balance Currency Account Balance Range  \n",
       "0          DDA         12215.43      CAD               10K-20K  \n",
       "1          SDA          6328.32      CAD                2K-10K  \n",
       "2          DDA          4292.99      CAD                2K-10K  \n",
       "3          SDA         10231.56      CAD               10K-20K  \n",
       "4          DDA          2904.83      CAD                2K-10K  "
      ]
     },
     "execution_count": 57,
     "metadata": {},
     "output_type": "execute_result"
    }
   ],
   "source": [
    "# Getting the file from local CSV  \n",
    "\n",
    "# Loading the data\n",
    "raw_data = pd.read_csv('joined_tables.csv')\n",
    "\n",
    "# print the shape\n",
    "print(raw_data.shape)\n",
    "\n",
    "#runs the first 5 rows\n",
    "raw_data.head()"
   ]
  },
  {
   "cell_type": "markdown",
   "metadata": {},
   "source": [
    "### Exploratory Data Analysis & Data Cleaning"
   ]
  },
  {
   "cell_type": "code",
   "execution_count": 58,
   "metadata": {},
   "outputs": [
    {
     "data": {
      "text/plain": [
       "Customer ID              0\n",
       "Gender                   0\n",
       "DOB                      0\n",
       "Age                      0\n",
       "Age Range                0\n",
       "Work Activity            0\n",
       "Income                   0\n",
       "Income Range             0\n",
       "Marital Status           0\n",
       "Habitation               0\n",
       "Trans Description        0\n",
       "Trans Amount             0\n",
       "Trans Date               0\n",
       "Trans Category           0\n",
       "Bank Branch              0\n",
       "Account Type             0\n",
       "Account Balance          0\n",
       "Currency                 0\n",
       "Account Balance Range    0\n",
       "dtype: int64"
      ]
     },
     "execution_count": 58,
     "metadata": {},
     "output_type": "execute_result"
    }
   ],
   "source": [
    "# Checking for null values\n",
    "\n",
    "raw_data.isnull().sum()"
   ]
  },
  {
   "cell_type": "code",
   "execution_count": 59,
   "metadata": {},
   "outputs": [
    {
     "name": "stdout",
     "output_type": "stream",
     "text": [
      "The number of values for feature Customer ID :85\n",
      "The number of values for feature Gender :3 -- ['Female' 'Male' 'Other']\n",
      "The number of values for feature DOB :83\n",
      "The number of values for feature Age :48\n",
      "The number of values for feature Age Range :5 -- ['20 - 29' '30 - 49' '50 - 69' 'Above 70' 'Below 20']\n",
      "The number of values for feature Work Activity :3 -- ['fulltime' 'other' 'parttime']\n",
      "The number of values for feature Income :66\n",
      "The number of values for feature Income Range :6 -- ['10K - 20K' '20K - 30K' '30K - 40K' '40K - 70K' 'Above 70K' 'Below 10K']\n",
      "The number of values for feature Marital Status :5 -- ['Divorced' 'Married' 'Separated' 'Single' 'Widowed']\n",
      "The number of values for feature Habitation :4 -- ['Group' 'With Parent' 'With Spouse' 'other']\n",
      "The number of values for feature Trans Description :94\n",
      "The number of values for feature Trans Amount :88\n",
      "The number of values for feature Trans Date :61\n",
      "The number of values for feature Trans Category :9 -- ['Bills and Utilities' 'Food and Dining' 'Home' 'Income'\n",
      " 'Mortgage and Rent' 'Payday Loan' 'Shopping' 'Taxes' 'Transfer']\n",
      "The number of values for feature Bank Branch :62\n",
      "The number of values for feature Account Type :2 -- ['DDA' 'SDA']\n",
      "The number of values for feature Account Balance :167\n",
      "The number of values for feature Currency :1 -- ['CAD']\n",
      "The number of values for feature Account Balance Range :4 -- ['10K-20K' '2K-10K' 'Above 20K' 'Below 2K']\n"
     ]
    }
   ],
   "source": [
    "# Investigate all the elements whithin each Feature \n",
    "\n",
    "for column in raw_data:\n",
    "    unique_vals = np.unique(raw_data[column])\n",
    "    nr_values = len(unique_vals)\n",
    "    if nr_values < 11:\n",
    "        print('The number of values for feature {} :{} -- {}'.format(column, nr_values,unique_vals))\n",
    "    else:\n",
    "        print('The number of values for feature {} :{}'.format(column, nr_values))"
   ]
  },
  {
   "cell_type": "code",
   "execution_count": 60,
   "metadata": {},
   "outputs": [
    {
     "data": {
      "text/plain": [
       "Index(['Customer ID', 'Gender', 'DOB', 'Age', 'Age Range', 'Work Activity',\n",
       "       'Income', 'Income Range', 'Marital Status', 'Habitation',\n",
       "       'Trans Description', 'Trans Amount', 'Trans Date', 'Trans Category',\n",
       "       'Bank Branch', 'Account Type', 'Account Balance', 'Currency',\n",
       "       'Account Balance Range'],\n",
       "      dtype='object')"
      ]
     },
     "execution_count": 60,
     "metadata": {},
     "output_type": "execute_result"
    }
   ],
   "source": [
    "# Getting the columns we need. Keeping only the features with less than 11 unique values\n",
    "\n",
    "raw_data.columns"
   ]
  },
  {
   "cell_type": "code",
   "execution_count": 61,
   "metadata": {},
   "outputs": [
    {
     "data": {
      "image/png": "[encoded data removed]",
      "text/plain": [
       "<Figure size 576x432 with 1 Axes>"
      ]
     },
     "metadata": {},
     "output_type": "display_data"
    },
    {
     "data": {
      "image/png": "[encoded data removed]",
      "text/plain": [
       "<Figure size 576x432 with 1 Axes>"
      ]
     },
     "metadata": {},
     "output_type": "display_data"
    },
    {
     "data": {
      "image/png": "[encoded data removed]",
      "text/plain": [
       "<Figure size 576x432 with 1 Axes>"
      ]
     },
     "metadata": {},
     "output_type": "display_data"
    },
    {
     "data": {
      "image/png": "[encoded data removed]",
      "text/plain": [
       "<Figure size 576x432 with 1 Axes>"
      ]
     },
     "metadata": {},
     "output_type": "display_data"
    },
    {
     "data": {
      "image/png": "[encoded data removed]",
      "text/plain": [
       "<Figure size 576x432 with 1 Axes>"
      ]
     },
     "metadata": {},
     "output_type": "display_data"
    },
    {
     "data": {
      "image/png": "[encoded data removed]",
      "text/plain": [
       "<Figure size 576x432 with 1 Axes>"
      ]
     },
     "metadata": {},
     "output_type": "display_data"
    },
    {
     "data": {
      "image/png": "[encoded data removed]",
      "text/plain": [
       "<Figure size 576x432 with 1 Axes>"
      ]
     },
     "metadata": {},
     "output_type": "display_data"
    },
    {
     "data": {
      "image/png": "[encoded data removed]",
      "text/plain": [
       "<Figure size 576x432 with 1 Axes>"
      ]
     },
     "metadata": {},
     "output_type": "display_data"
    }
   ],
   "source": [
    "# Print graphs to visualize the number of customer per each feature\n",
    "# Looping through all the features (with less than 11 unique values) by our y variable - see if there is relationship\n",
    "\n",
    "\n",
    "features = ['Gender','Age Range', 'Work Activity','Income Range', 'Marital Status', 'Habitation','Trans Category','Account Balance Range']\n",
    "\n",
    "for f in features:\n",
    "    sns.countplot(x = f, data = raw_data, palette = 'Set2')# hue = 'Good Loan')\n",
    "    plt.xticks(rotation=45)\n",
    "    plt.show()\n",
    "    "
   ]
  },
  {
   "cell_type": "markdown",
   "metadata": {},
   "source": [
    "### Numeric Representation"
   ]
  },
  {
   "cell_type": "code",
   "execution_count": 62,
   "metadata": {},
   "outputs": [
    {
     "name": "stdout",
     "output_type": "stream",
     "text": [
      "(200, 19)\n",
      "(200, 8)\n",
      "(200, 39)\n"
     ]
    },
    {
     "data": {
      "text/html": [
       "<div>\n",
       "<style scoped>\n",
       "    .dataframe tbody tr th:only-of-type {\n",
       "        vertical-align: middle;\n",
       "    }\n",
       "\n",
       "    .dataframe tbody tr th {\n",
       "        vertical-align: top;\n",
       "    }\n",
       "\n",
       "    .dataframe thead th {\n",
       "        text-align: right;\n",
       "    }\n",
       "</style>\n",
       "<table border=\"1\" class=\"dataframe\">\n",
       "  <thead>\n",
       "    <tr style=\"text-align: right;\">\n",
       "      <th></th>\n",
       "      <th>Gender_Female</th>\n",
       "      <th>Gender_Male</th>\n",
       "      <th>Gender_Other</th>\n",
       "      <th>Age Range_20 - 29</th>\n",
       "      <th>Age Range_30 - 49</th>\n",
       "      <th>Age Range_50 - 69</th>\n",
       "      <th>Age Range_Above 70</th>\n",
       "      <th>Age Range_Below 20</th>\n",
       "      <th>Work Activity_fulltime</th>\n",
       "      <th>Work Activity_other</th>\n",
       "      <th>...</th>\n",
       "      <th>Trans Category_Income</th>\n",
       "      <th>Trans Category_Mortgage and Rent</th>\n",
       "      <th>Trans Category_Payday Loan</th>\n",
       "      <th>Trans Category_Shopping</th>\n",
       "      <th>Trans Category_Taxes</th>\n",
       "      <th>Trans Category_Transfer</th>\n",
       "      <th>Account Balance Range_10K-20K</th>\n",
       "      <th>Account Balance Range_2K-10K</th>\n",
       "      <th>Account Balance Range_Above 20K</th>\n",
       "      <th>Account Balance Range_Below 2K</th>\n",
       "    </tr>\n",
       "  </thead>\n",
       "  <tbody>\n",
       "    <tr>\n",
       "      <th>0</th>\n",
       "      <td>0</td>\n",
       "      <td>1</td>\n",
       "      <td>0</td>\n",
       "      <td>1</td>\n",
       "      <td>0</td>\n",
       "      <td>0</td>\n",
       "      <td>0</td>\n",
       "      <td>0</td>\n",
       "      <td>0</td>\n",
       "      <td>0</td>\n",
       "      <td>...</td>\n",
       "      <td>1</td>\n",
       "      <td>0</td>\n",
       "      <td>0</td>\n",
       "      <td>0</td>\n",
       "      <td>0</td>\n",
       "      <td>0</td>\n",
       "      <td>1</td>\n",
       "      <td>0</td>\n",
       "      <td>0</td>\n",
       "      <td>0</td>\n",
       "    </tr>\n",
       "    <tr>\n",
       "      <th>1</th>\n",
       "      <td>0</td>\n",
       "      <td>1</td>\n",
       "      <td>0</td>\n",
       "      <td>1</td>\n",
       "      <td>0</td>\n",
       "      <td>0</td>\n",
       "      <td>0</td>\n",
       "      <td>0</td>\n",
       "      <td>0</td>\n",
       "      <td>0</td>\n",
       "      <td>...</td>\n",
       "      <td>1</td>\n",
       "      <td>0</td>\n",
       "      <td>0</td>\n",
       "      <td>0</td>\n",
       "      <td>0</td>\n",
       "      <td>0</td>\n",
       "      <td>0</td>\n",
       "      <td>1</td>\n",
       "      <td>0</td>\n",
       "      <td>0</td>\n",
       "    </tr>\n",
       "    <tr>\n",
       "      <th>2</th>\n",
       "      <td>0</td>\n",
       "      <td>1</td>\n",
       "      <td>0</td>\n",
       "      <td>0</td>\n",
       "      <td>0</td>\n",
       "      <td>0</td>\n",
       "      <td>1</td>\n",
       "      <td>0</td>\n",
       "      <td>0</td>\n",
       "      <td>1</td>\n",
       "      <td>...</td>\n",
       "      <td>0</td>\n",
       "      <td>0</td>\n",
       "      <td>0</td>\n",
       "      <td>0</td>\n",
       "      <td>0</td>\n",
       "      <td>1</td>\n",
       "      <td>0</td>\n",
       "      <td>1</td>\n",
       "      <td>0</td>\n",
       "      <td>0</td>\n",
       "    </tr>\n",
       "    <tr>\n",
       "      <th>3</th>\n",
       "      <td>0</td>\n",
       "      <td>1</td>\n",
       "      <td>0</td>\n",
       "      <td>0</td>\n",
       "      <td>0</td>\n",
       "      <td>0</td>\n",
       "      <td>1</td>\n",
       "      <td>0</td>\n",
       "      <td>0</td>\n",
       "      <td>1</td>\n",
       "      <td>...</td>\n",
       "      <td>0</td>\n",
       "      <td>0</td>\n",
       "      <td>0</td>\n",
       "      <td>0</td>\n",
       "      <td>0</td>\n",
       "      <td>1</td>\n",
       "      <td>1</td>\n",
       "      <td>0</td>\n",
       "      <td>0</td>\n",
       "      <td>0</td>\n",
       "    </tr>\n",
       "    <tr>\n",
       "      <th>4</th>\n",
       "      <td>0</td>\n",
       "      <td>1</td>\n",
       "      <td>0</td>\n",
       "      <td>0</td>\n",
       "      <td>1</td>\n",
       "      <td>0</td>\n",
       "      <td>0</td>\n",
       "      <td>0</td>\n",
       "      <td>0</td>\n",
       "      <td>0</td>\n",
       "      <td>...</td>\n",
       "      <td>0</td>\n",
       "      <td>0</td>\n",
       "      <td>0</td>\n",
       "      <td>0</td>\n",
       "      <td>0</td>\n",
       "      <td>1</td>\n",
       "      <td>0</td>\n",
       "      <td>1</td>\n",
       "      <td>0</td>\n",
       "      <td>0</td>\n",
       "    </tr>\n",
       "  </tbody>\n",
       "</table>\n",
       "<p>5 rows × 39 columns</p>\n",
       "</div>"
      ],
      "text/plain": [
       "   Gender_Female  Gender_Male  Gender_Other  Age Range_20 - 29  \\\n",
       "0              0            1             0                  1   \n",
       "1              0            1             0                  1   \n",
       "2              0            1             0                  0   \n",
       "3              0            1             0                  0   \n",
       "4              0            1             0                  0   \n",
       "\n",
       "   Age Range_30 - 49  Age Range_50 - 69  Age Range_Above 70  \\\n",
       "0                  0                  0                   0   \n",
       "1                  0                  0                   0   \n",
       "2                  0                  0                   1   \n",
       "3                  0                  0                   1   \n",
       "4                  1                  0                   0   \n",
       "\n",
       "   Age Range_Below 20  Work Activity_fulltime  Work Activity_other  ...  \\\n",
       "0                   0                       0                    0  ...   \n",
       "1                   0                       0                    0  ...   \n",
       "2                   0                       0                    1  ...   \n",
       "3                   0                       0                    1  ...   \n",
       "4                   0                       0                    0  ...   \n",
       "\n",
       "   Trans Category_Income  Trans Category_Mortgage and Rent  \\\n",
       "0                      1                                 0   \n",
       "1                      1                                 0   \n",
       "2                      0                                 0   \n",
       "3                      0                                 0   \n",
       "4                      0                                 0   \n",
       "\n",
       "   Trans Category_Payday Loan  Trans Category_Shopping  Trans Category_Taxes  \\\n",
       "0                           0                        0                     0   \n",
       "1                           0                        0                     0   \n",
       "2                           0                        0                     0   \n",
       "3                           0                        0                     0   \n",
       "4                           0                        0                     0   \n",
       "\n",
       "   Trans Category_Transfer  Account Balance Range_10K-20K  \\\n",
       "0                        0                              1   \n",
       "1                        0                              0   \n",
       "2                        1                              0   \n",
       "3                        1                              1   \n",
       "4                        1                              0   \n",
       "\n",
       "   Account Balance Range_2K-10K  Account Balance Range_Above 20K  \\\n",
       "0                             0                                0   \n",
       "1                             1                                0   \n",
       "2                             1                                0   \n",
       "3                             0                                0   \n",
       "4                             1                                0   \n",
       "\n",
       "   Account Balance Range_Below 2K  \n",
       "0                               0  \n",
       "1                               0  \n",
       "2                               0  \n",
       "3                               0  \n",
       "4                               0  \n",
       "\n",
       "[5 rows x 39 columns]"
      ]
     },
     "execution_count": 62,
     "metadata": {},
     "output_type": "execute_result"
    }
   ],
   "source": [
    "# Making categorical variables into numeric representation\n",
    "\n",
    "print(raw_data.shape)\n",
    "\n",
    "# keeping the columns we need - Drop the location columns for now, as we do not want them to impact our results (for now)\n",
    "new_data = raw_data[features]\n",
    "print(new_data.shape)\n",
    "\n",
    "# Making categorical variables into numeric representation\n",
    "new_raw_data = pd.get_dummies(new_data, columns = features)\n",
    "\n",
    "\n",
    "\n",
    "print(new_raw_data.shape)\n",
    "# print the shape\n",
    "\n",
    "new_raw_data.head()\n"
   ]
  },
  {
   "cell_type": "code",
   "execution_count": 63,
   "metadata": {},
   "outputs": [
    {
     "data": {
      "text/html": [
       "<div>\n",
       "<style scoped>\n",
       "    .dataframe tbody tr th:only-of-type {\n",
       "        vertical-align: middle;\n",
       "    }\n",
       "\n",
       "    .dataframe tbody tr th {\n",
       "        vertical-align: top;\n",
       "    }\n",
       "\n",
       "    .dataframe thead th {\n",
       "        text-align: right;\n",
       "    }\n",
       "</style>\n",
       "<table border=\"1\" class=\"dataframe\">\n",
       "  <thead>\n",
       "    <tr style=\"text-align: right;\">\n",
       "      <th></th>\n",
       "      <th>Gender</th>\n",
       "      <th>Age Range</th>\n",
       "      <th>Work Activity</th>\n",
       "      <th>Income Range</th>\n",
       "      <th>Marital Status</th>\n",
       "      <th>Habitation</th>\n",
       "      <th>Trans Category</th>\n",
       "      <th>Account Balance Range</th>\n",
       "    </tr>\n",
       "  </thead>\n",
       "  <tbody>\n",
       "    <tr>\n",
       "      <th>0</th>\n",
       "      <td>Male</td>\n",
       "      <td>20 - 29</td>\n",
       "      <td>parttime</td>\n",
       "      <td>10K - 20K</td>\n",
       "      <td>Single</td>\n",
       "      <td>With Parent</td>\n",
       "      <td>Income</td>\n",
       "      <td>10K-20K</td>\n",
       "    </tr>\n",
       "    <tr>\n",
       "      <th>1</th>\n",
       "      <td>Male</td>\n",
       "      <td>20 - 29</td>\n",
       "      <td>parttime</td>\n",
       "      <td>10K - 20K</td>\n",
       "      <td>Single</td>\n",
       "      <td>With Parent</td>\n",
       "      <td>Income</td>\n",
       "      <td>2K-10K</td>\n",
       "    </tr>\n",
       "    <tr>\n",
       "      <th>2</th>\n",
       "      <td>Male</td>\n",
       "      <td>Above 70</td>\n",
       "      <td>other</td>\n",
       "      <td>20K - 30K</td>\n",
       "      <td>Married</td>\n",
       "      <td>With Spouse</td>\n",
       "      <td>Transfer</td>\n",
       "      <td>2K-10K</td>\n",
       "    </tr>\n",
       "    <tr>\n",
       "      <th>3</th>\n",
       "      <td>Male</td>\n",
       "      <td>Above 70</td>\n",
       "      <td>other</td>\n",
       "      <td>20K - 30K</td>\n",
       "      <td>Married</td>\n",
       "      <td>With Spouse</td>\n",
       "      <td>Transfer</td>\n",
       "      <td>10K-20K</td>\n",
       "    </tr>\n",
       "    <tr>\n",
       "      <th>4</th>\n",
       "      <td>Male</td>\n",
       "      <td>30 - 49</td>\n",
       "      <td>parttime</td>\n",
       "      <td>Below 10K</td>\n",
       "      <td>Single</td>\n",
       "      <td>With Parent</td>\n",
       "      <td>Transfer</td>\n",
       "      <td>2K-10K</td>\n",
       "    </tr>\n",
       "  </tbody>\n",
       "</table>\n",
       "</div>"
      ],
      "text/plain": [
       "  Gender Age Range Work Activity Income Range Marital Status   Habitation  \\\n",
       "0   Male   20 - 29      parttime    10K - 20K         Single  With Parent   \n",
       "1   Male   20 - 29      parttime    10K - 20K         Single  With Parent   \n",
       "2   Male  Above 70         other    20K - 30K        Married  With Spouse   \n",
       "3   Male  Above 70         other    20K - 30K        Married  With Spouse   \n",
       "4   Male   30 - 49      parttime    Below 10K         Single  With Parent   \n",
       "\n",
       "  Trans Category Account Balance Range  \n",
       "0         Income               10K-20K  \n",
       "1         Income                2K-10K  \n",
       "2       Transfer                2K-10K  \n",
       "3       Transfer               10K-20K  \n",
       "4       Transfer                2K-10K  "
      ]
     },
     "execution_count": 63,
     "metadata": {},
     "output_type": "execute_result"
    }
   ],
   "source": [
    "new_data.head()"
   ]
  },
  {
   "cell_type": "markdown",
   "metadata": {},
   "source": [
    "### K-means Clustering"
   ]
  },
  {
   "cell_type": "code",
   "execution_count": 64,
   "metadata": {},
   "outputs": [
    {
     "name": "stdout",
     "output_type": "stream",
     "text": [
      "The clusters are:  [0 0 4 4 0 0 3 3 0 0 4 4 4 4 0 0 4 4 2 2 4 4 1 1 1 1 2 0 2 2 2 2 3 3 0 0 3\n",
      " 3 1 1 1 1 2 2 1 1 0 0 3 3 1 1 2 2 3 3 1 1 1 1 2 2 3 3 3 3 3 3 3 0 4 4 2 2\n",
      " 2 2 2 2 3 3 0 0 1 1 1 1 0 0 2 2 2 2 3 3 3 3 4 4 1 1 2 2 0 0 3 3 3 3 4 4 4\n",
      " 4 2 2 2 2 0 0 4 4 1 1 2 2 4 4 3 3 0 0 3 3 1 1 2 2 0 0 1 1 2 2 2 2 0 0 2 2\n",
      " 1 1 2 2 3 3 2 2 1 1 1 1 0 0 2 2 4 4 1 1 1 1 4 4 2 2 2 2 4 4 4 4 4 4 2 2 0\n",
      " 0 2 2 2 2 0 0 1 1 1 1 3 3 2 2]\n",
      "The Inertia is:  662.3825206398348\n"
     ]
    }
   ],
   "source": [
    "# Running Kmeans\n",
    "# k is the number of clusters\n",
    "\n",
    "X_train = new_raw_data.values  # turn the data frame to an array\n",
    "\n",
    "# We wills start with 5 clusters\n",
    "\n",
    "kmeans = KMeans(n_clusters=5, random_state=300) #initialize the model by selecting random number of clusters 5 and random state\n",
    "kmeans = kmeans.fit(X_train)\n",
    "\n",
    "# Prints the clusters it assigned to each observation\n",
    "print(\"The clusters are: \", kmeans.labels_)\n",
    "\n",
    "# Prints the Inertia, which evaluates how close each values are to each other. \n",
    "# The smaller number of the inertia, the better the model is.\n",
    "print(\"The Inertia is: \", kmeans.inertia_)"
   ]
  },
  {
   "cell_type": "code",
   "execution_count": 65,
   "metadata": {},
   "outputs": [
    {
     "data": {
      "text/plain": [
       "(200,)"
      ]
     },
     "execution_count": 65,
     "metadata": {},
     "output_type": "execute_result"
    }
   ],
   "source": [
    "kmeans.labels_.shape"
   ]
  },
  {
   "cell_type": "code",
   "execution_count": 66,
   "metadata": {},
   "outputs": [
    {
     "name": "stdout",
     "output_type": "stream",
     "text": [
      "[[0 1 0 ... 0 0 0]\n",
      " [0 1 0 ... 1 0 0]\n",
      " [0 1 0 ... 1 0 0]\n",
      " ...\n",
      " [1 0 0 ... 0 0 0]\n",
      " [1 0 0 ... 0 1 0]\n",
      " [1 0 0 ... 0 1 0]]\n"
     ]
    }
   ],
   "source": [
    "print(X_train) #array"
   ]
  },
  {
   "cell_type": "code",
   "execution_count": 67,
   "metadata": {},
   "outputs": [
    {
     "name": "stdout",
     "output_type": "stream",
     "text": [
      "The innertia for : 2 Clusters is: 909.7415329768261\n",
      "The innertia for : 3 Clusters is: 810.8238562091502\n",
      "The innertia for : 4 Clusters is: 736.04828016886\n",
      "The innertia for : 5 Clusters is: 665.0900760530321\n",
      "The innertia for : 6 Clusters is: 613.3279234899925\n",
      "The innertia for : 7 Clusters is: 579.9513298248592\n",
      "The innertia for : 8 Clusters is: 542.6781954887218\n",
      "The innertia for : 9 Clusters is: 517.8687207529312\n",
      "The innertia for : 10 Clusters is: 496.3894037736142\n",
      "The innertia for : 11 Clusters is: 479.58176703470826\n",
      "The innertia for : 12 Clusters is: 455.41582750582734\n",
      "The innertia for : 13 Clusters is: 437.2134465534466\n",
      "The innertia for : 14 Clusters is: 421.3698557892056\n",
      "The innertia for : 15 Clusters is: 406.7981601731603\n",
      "The innertia for : 16 Clusters is: 394.5955017205016\n",
      "The innertia for : 17 Clusters is: 378.9496753246756\n",
      "The innertia for : 18 Clusters is: 367.5224025974027\n",
      "The innertia for : 19 Clusters is: 355.2753083345967\n"
     ]
    }
   ],
   "source": [
    "# How to find the best number if Ks?\n",
    "\n",
    "# Running K means with multible Ks\n",
    "\n",
    "no_of_clusters = range(2,20) #[2,3,4,5,6,7,8,9]\n",
    "inertia = []\n",
    "\n",
    "\n",
    "for f in no_of_clusters:\n",
    "    kmeans = KMeans(n_clusters=f, random_state=2)\n",
    "    kmeans = kmeans.fit(X_train)\n",
    "    u = kmeans.inertia_\n",
    "    inertia.append(u)\n",
    "    print(\"The innertia for :\", f, \"Clusters is:\", u)"
   ]
  },
  {
   "cell_type": "code",
   "execution_count": 68,
   "metadata": {},
   "outputs": [
    {
     "data": {
      "text/plain": [
       "range(2, 20)"
      ]
     },
     "execution_count": 68,
     "metadata": {},
     "output_type": "execute_result"
    }
   ],
   "source": [
    "no_of_clusters"
   ]
  },
  {
   "cell_type": "code",
   "execution_count": 69,
   "metadata": {},
   "outputs": [
    {
     "data": {
      "text/plain": [
       "Text(0.5, 1.0, 'Inertia Plot per k')"
      ]
     },
     "execution_count": 69,
     "metadata": {},
     "output_type": "execute_result"
    },
    {
     "data": {
      "image/png": "[encoded data removed]",
      "text/plain": [
       "<Figure size 1152x432 with 1 Axes>"
      ]
     },
     "metadata": {},
     "output_type": "display_data"
    }
   ],
   "source": [
    "# Creating the scree plot for Intertia - elbow method\n",
    "fig, (ax1) = plt.subplots(1, figsize=(16,6))\n",
    "xx = np.arange(len(no_of_clusters))\n",
    "ax1.plot(xx, inertia)\n",
    "ax1.set_xticks(xx)\n",
    "ax1.set_xticklabels(no_of_clusters, rotation='vertical')\n",
    "plt.xlabel('Number of clusters')\n",
    "plt.ylabel('Inertia Score')\n",
    "plt.title(\"Inertia Plot per k\")"
   ]
  },
  {
   "cell_type": "code",
   "execution_count": 71,
   "metadata": {},
   "outputs": [
    {
     "data": {
      "text/html": [
       "<div>\n",
       "<style scoped>\n",
       "    .dataframe tbody tr th:only-of-type {\n",
       "        vertical-align: middle;\n",
       "    }\n",
       "\n",
       "    .dataframe tbody tr th {\n",
       "        vertical-align: top;\n",
       "    }\n",
       "\n",
       "    .dataframe thead th {\n",
       "        text-align: right;\n",
       "    }\n",
       "</style>\n",
       "<table border=\"1\" class=\"dataframe\">\n",
       "  <thead>\n",
       "    <tr style=\"text-align: right;\">\n",
       "      <th></th>\n",
       "      <th>Cluster 0</th>\n",
       "      <th>Cluster 1</th>\n",
       "      <th>Cluster 2</th>\n",
       "      <th>Cluster 3</th>\n",
       "      <th>Cluster 4</th>\n",
       "    </tr>\n",
       "  </thead>\n",
       "  <tbody>\n",
       "    <tr>\n",
       "      <th>0</th>\n",
       "      <td>61</td>\n",
       "      <td>29</td>\n",
       "      <td>42</td>\n",
       "      <td>34</td>\n",
       "      <td>34</td>\n",
       "    </tr>\n",
       "  </tbody>\n",
       "</table>\n",
       "</div>"
      ],
      "text/plain": [
       "   Cluster 0  Cluster 1  Cluster 2  Cluster 3  Cluster 4\n",
       "0         61         29         42         34         34"
      ]
     },
     "execution_count": 71,
     "metadata": {},
     "output_type": "execute_result"
    }
   ],
   "source": [
    "# From the graph we can see the slope becomes less steep at 5 clusters \n",
    "# Running K means on 5 clusters\n",
    "\n",
    "kmeans = KMeans(n_clusters=5, random_state=2)\n",
    "kmeans = kmeans.fit(X_train)\n",
    "\n",
    "\n",
    "kmeans.labels_\n",
    "\n",
    "# \"predictions\" for new data\n",
    "predictions = kmeans.predict(X_train)\n",
    "\n",
    "# calculating the Counts of the cluster\n",
    "unique, counts = np.unique(predictions, return_counts=True)\n",
    "counts = counts.reshape(1,5)\n",
    "\n",
    "# Creating a datagrame\n",
    "countscldf = pd.DataFrame(counts, columns = [\"Cluster 0\",\"Cluster 1\",\"Cluster 2\", \"Cluster 3\",\"Cluster 4\"])\n",
    "\n",
    "# display\n",
    "countscldf"
   ]
  },
  {
   "cell_type": "code",
   "execution_count": 72,
   "metadata": {},
   "outputs": [
    {
     "data": {
      "text/plain": [
       "(200, 39)"
      ]
     },
     "execution_count": 72,
     "metadata": {},
     "output_type": "execute_result"
    }
   ],
   "source": [
    "new_raw_data.shape"
   ]
  },
  {
   "cell_type": "code",
   "execution_count": null,
   "metadata": {},
   "outputs": [],
   "source": []
  },
  {
   "cell_type": "markdown",
   "metadata": {},
   "source": [
    "### Running Principal Component Analysis (PCA) to Visualize & improve results"
   ]
  },
  {
   "cell_type": "markdown",
   "metadata": {},
   "source": [
    "- What is it?\n",
    "\n",
    "PCA is a dimensionality reduction technique that transforms a number of possibly correlated variables into a smaller number of uncorrelated variables; called principal components\n",
    "\n",
    "The goal of PCA is to extract the most important information from the data table by compressing the size of the data set and keeping only the important information; then PCA computes new variables called principal components.\n",
    "\n",
    "- Additional Info:\n",
    "\n",
    "The first principal component is required to have the largest possible variance (inertia) and therefore this component will explain the largest part of the inertia / variance of the data table; hence the less principal components you have the lower the inertia will be after PCA.\n",
    "\n",
    "For every new component you add, the inertia will increase since the rotations are always performed in a subspace and the new axes will always explain less inertia than the original components; which are computed to be optimal\n",
    "Therefore, inertia should not be the criterium to choose the optimal number of principal component since the lower the components are the lower the inertia will be.\n",
    "95% explained variance should be the criterium when choosing the number of principal components"
   ]
  },
  {
   "cell_type": "code",
   "execution_count": 73,
   "metadata": {},
   "outputs": [
    {
     "name": "stdout",
     "output_type": "stream",
     "text": [
      "Explained variance ratio (first two components): [0.233767 0.106484]\n"
     ]
    },
    {
     "data": {
      "text/plain": [
       "<Figure size 576x432 with 0 Axes>"
      ]
     },
     "metadata": {},
     "output_type": "display_data"
    },
    {
     "data": {
      "image/png": "[encoded data removed]",
      "text/plain": [
       "<Figure size 864x576 with 1 Axes>"
      ]
     },
     "metadata": {},
     "output_type": "display_data"
    }
   ],
   "source": [
    "# Running PCA to Visualize the data\n",
    "\n",
    "from sklearn.decomposition import PCA\n",
    "from sklearn.discriminant_analysis import LinearDiscriminantAnalysis\n",
    "\n",
    "X = X_train\n",
    "y_num = predictions\n",
    "\n",
    "target_names = [\"Cluster 0\",\"Cluster 1\",\"Cluster 2\", \"Cluster 3\",\"Cluster 4\"]\n",
    "\n",
    "pca = PCA(n_components=2, random_state = 453)\n",
    "X_r = pca.fit(X).transform(X)\n",
    "\n",
    "\n",
    "# Percentage of variance explained for each components\n",
    "print('Explained variance ratio (first two components): %s' % str(pca.explained_variance_ratio_))\n",
    "\n",
    "# Plotting the data\n",
    "plt.figure()\n",
    "plt.figure(figsize=(12,8))\n",
    "colors = ['navy', 'turquoise', 'darkorange', 'red', 'black']\n",
    "lw = 2\n",
    "\n",
    "\n",
    "for color, i, target_name in zip(colors, [0, 1, 2, 3, 4, 5], target_names):\n",
    "    plt.scatter(X_r[y_num == i, 0], X_r[y_num == i, 1], color=color, alpha=.8, lw=lw,label=target_name)\n",
    "    \n",
    "plt.legend(loc='best', shadow=False, scatterpoints=1)\n",
    "plt.legend(bbox_to_anchor=(1.05, 1), loc=2, borderaxespad=0.6)   \n",
    "plt.title('PCA of 2 Items')\n",
    "plt.show()"
   ]
  },
  {
   "cell_type": "markdown",
   "metadata": {},
   "source": [
    "### Why dimensionality reduction could help k-means perform better:"
   ]
  },
  {
   "cell_type": "markdown",
   "metadata": {},
   "source": [
    "Kmeans is extremely sensitive to scale, and when you have a lot of attributes there is no true scale anymore. \n",
    "This is where PCA comes in since it whitens your data.\n",
    "\n",
    "By doing this, you will remove global correlation which can sometimes give better results. \n",
    "K-means is a \"least squares\" optimization problem; same with PCA.\n",
    "\n",
    "Kmeans tries to find the least squares partition of the data while PCA finds the least squares cluster membership vector. \n",
    "The first eigenvector has the largest variance (smallest inertia), \n",
    "hence splitting on this vector (which shows the cluster membership - not input data coordinates) \n",
    "means maximization of cluster variance; better fit for Kmeans.\n",
    "\n",
    "By maximizing between cluster variance, you minimize within-cluster variance. \n",
    "Therefore, applying PCA before clustering could potentially help you get better clusters (with more variance) in Kmeans"
   ]
  },
  {
   "cell_type": "markdown",
   "metadata": {},
   "source": [
    "### Identifying the \"best\" number of components"
   ]
  },
  {
   "cell_type": "code",
   "execution_count": 76,
   "metadata": {},
   "outputs": [
    {
     "name": "stdout",
     "output_type": "stream",
     "text": [
      "Total Variance in our dataset is:  5.687336683417084\n",
      "The 95% variance we want to have is:  5.4029698492462295\n",
      "\n",
      "Variance explain with 20 n_compononets:  5.461201602129284\n",
      "Variance explain with 25 n_compononets:  5.617345351836632\n",
      "Variance explain with 30 n_compononets:  5.681831253578445\n",
      "Variance explain with 35 n_compononets:  5.687336683417084\n",
      "Variance explain with 40 n_compononets:  5.687336683417084\n",
      "Variance explain with 43 n_compononets:  5.687336683417084\n",
      "Variance explain with 45 n_compononets:  5.687336683417084\n",
      "Variance explain with 50 n_compononets:  5.687336683417084\n"
     ]
    },
    {
     "data": {
      "image/png": "[encoded data removed]",
      "text/plain": [
       "<Figure size 1008x576 with 1 Axes>"
      ]
     },
     "metadata": {},
     "output_type": "display_data"
    }
   ],
   "source": [
    "# Trying with Dimentionality reduction and then Kmeans\n",
    "\n",
    "n_components = X.shape[1]\n",
    "\n",
    "# Running PCA with all components\n",
    "pca = PCA(n_components=n_components, random_state = 453)\n",
    "X_r = pca.fit(X).transform(X)\n",
    "\n",
    "\n",
    "# Calculating the 95% Variance\n",
    "total_variance = sum(pca.explained_variance_)\n",
    "print(\"Total Variance in our dataset is: \", total_variance)\n",
    "var_95 = total_variance * 0.95\n",
    "print(\"The 95% variance we want to have is: \", var_95)\n",
    "print(\"\")\n",
    "\n",
    "# Creating a df with the components and explained variance\n",
    "a = zip(range(0,n_components), pca.explained_variance_)\n",
    "a = pd.DataFrame(a, columns=[\"PCA Comp\", \"Explained Variance\"])\n",
    "\n",
    "# Trying to hit 95%\n",
    "print(\"Variance explain with 20 n_compononets: \", sum(a[\"Explained Variance\"][0:20]))\n",
    "print(\"Variance explain with 25 n_compononets: \", sum(a[\"Explained Variance\"][0:25]))\n",
    "print(\"Variance explain with 30 n_compononets: \", sum(a[\"Explained Variance\"][0:30]))\n",
    "print(\"Variance explain with 35 n_compononets: \", sum(a[\"Explained Variance\"][0:35]))\n",
    "print(\"Variance explain with 40 n_compononets: \", sum(a[\"Explained Variance\"][0:40]))\n",
    "print(\"Variance explain with 43 n_compononets: \", sum(a[\"Explained Variance\"][0:43]))\n",
    "print(\"Variance explain with 45 n_compononets: \", sum(a[\"Explained Variance\"][0:45]))\n",
    "print(\"Variance explain with 50 n_compononets: \", sum(a[\"Explained Variance\"][0:50]))\n",
    "\n",
    "# Plotting the Data\n",
    "plt.figure(1, figsize=(14, 8))\n",
    "plt.plot(pca.explained_variance_ratio_, linewidth=2, c=\"r\")\n",
    "plt.xlabel('n_components')\n",
    "plt.ylabel('explained_ratio_')\n",
    "\n",
    "# Plotting line with 95% e.v.\n",
    "plt.axvline(20,linestyle=':', label='n_components - 95% explained', c =\"blue\")\n",
    "plt.legend(prop=dict(size=12))\n",
    "\n",
    "# adding arrow\n",
    "plt.annotate('20 eigenvectors used to explain 95% variance', xy=(20, pca.explained_variance_ratio_[20]), \n",
    "             xytext=(58, pca.explained_variance_ratio_[10]),\n",
    "            arrowprops=dict(facecolor='blue', shrink=0.05))\n",
    "\n",
    "plt.show()\n"
   ]
  },
  {
   "cell_type": "code",
   "execution_count": 77,
   "metadata": {},
   "outputs": [
    {
     "name": "stdout",
     "output_type": "stream",
     "text": [
      "The innertia for : 2 Clusters is: 864.8438662482046\n",
      "The innertia for : 3 Clusters is: 766.2774387091487\n",
      "The innertia for : 4 Clusters is: 682.6774407051277\n",
      "The innertia for : 5 Clusters is: 617.3223147416056\n",
      "The innertia for : 6 Clusters is: 576.8934722936448\n",
      "The innertia for : 7 Clusters is: 535.1446363184549\n",
      "The innertia for : 8 Clusters is: 505.6723260723215\n",
      "The innertia for : 9 Clusters is: 473.1905642856999\n",
      "The innertia for : 10 Clusters is: 450.922494930652\n",
      "The innertia for : 11 Clusters is: 432.1998792231046\n",
      "The innertia for : 12 Clusters is: 414.4212267753906\n",
      "The innertia for : 13 Clusters is: 394.3343971481977\n",
      "The innertia for : 14 Clusters is: 378.0306601091605\n",
      "The innertia for : 15 Clusters is: 363.95531335780015\n",
      "The innertia for : 16 Clusters is: 353.4696428578703\n",
      "The innertia for : 17 Clusters is: 337.7055764531153\n",
      "The innertia for : 18 Clusters is: 326.6107449547286\n",
      "The innertia for : 19 Clusters is: 313.5726893085357\n"
     ]
    },
    {
     "data": {
      "text/plain": [
       "Text(0.5, 1.0, 'Inertia Plot per k')"
      ]
     },
     "execution_count": 77,
     "metadata": {},
     "output_type": "execute_result"
    },
    {
     "data": {
      "image/png": "[encoded data removed]",
      "text/plain": [
       "<Figure size 1152x432 with 1 Axes>"
      ]
     },
     "metadata": {},
     "output_type": "display_data"
    }
   ],
   "source": [
    "# Running PCA again\n",
    "\n",
    "pca = PCA(n_components=20, random_state = 453)\n",
    "X_r = pca.fit(X).transform(X)\n",
    "\n",
    "inertia = []\n",
    "\n",
    "#running Kmeans\n",
    "\n",
    "for f in no_of_clusters:\n",
    "    kmeans = KMeans(n_clusters=f, random_state=2)\n",
    "    kmeans = kmeans.fit(X_r)\n",
    "    u = kmeans.inertia_\n",
    "    inertia.append(u)\n",
    "    print(\"The innertia for :\", f, \"Clusters is:\", u)\n",
    "\n",
    "# Creating the scree plot for Intertia - elbow method\n",
    "fig, (ax1) = plt.subplots(1, figsize=(16,6))\n",
    "xx = np.arange(len(no_of_clusters))\n",
    "ax1.plot(xx, inertia)\n",
    "ax1.set_xticks(xx)\n",
    "ax1.set_xticklabels(no_of_clusters, rotation='vertical')\n",
    "plt.xlabel('n_components Value')\n",
    "plt.ylabel('Inertia Score')\n",
    "plt.title(\"Inertia Plot per k\")"
   ]
  },
  {
   "cell_type": "markdown",
   "metadata": {},
   "source": [
    "We managed to improve the results by reducing inertia"
   ]
  },
  {
   "cell_type": "code",
   "execution_count": 78,
   "metadata": {},
   "outputs": [
    {
     "name": "stderr",
     "output_type": "stream",
     "text": [
      "C:\\Users\\karab\\anaconda3\\lib\\site-packages\\pandas\\core\\indexing.py:671: SettingWithCopyWarning: \n",
      "A value is trying to be set on a copy of a slice from a DataFrame\n",
      "\n",
      "See the caveats in the documentation: https://pandas.pydata.org/pandas-docs/stable/user_guide/indexing.html#returning-a-view-versus-a-copy\n",
      "  self._setitem_with_indexer(indexer, value)\n"
     ]
    },
    {
     "data": {
      "text/html": [
       "<div>\n",
       "<style scoped>\n",
       "    .dataframe tbody tr th:only-of-type {\n",
       "        vertical-align: middle;\n",
       "    }\n",
       "\n",
       "    .dataframe tbody tr th {\n",
       "        vertical-align: top;\n",
       "    }\n",
       "\n",
       "    .dataframe thead th {\n",
       "        text-align: right;\n",
       "    }\n",
       "</style>\n",
       "<table border=\"1\" class=\"dataframe\">\n",
       "  <thead>\n",
       "    <tr style=\"text-align: right;\">\n",
       "      <th></th>\n",
       "      <th>Customer ID</th>\n",
       "      <th>Gender</th>\n",
       "      <th>DOB</th>\n",
       "      <th>Age</th>\n",
       "      <th>Age Range</th>\n",
       "      <th>Work Activity</th>\n",
       "      <th>Income</th>\n",
       "      <th>Income Range</th>\n",
       "      <th>Marital Status</th>\n",
       "      <th>Habitation</th>\n",
       "      <th>...</th>\n",
       "      <th>Trans Amount</th>\n",
       "      <th>Trans Date</th>\n",
       "      <th>Trans Category</th>\n",
       "      <th>Bank Branch</th>\n",
       "      <th>Account Type</th>\n",
       "      <th>Account Balance</th>\n",
       "      <th>Currency</th>\n",
       "      <th>Account Balance Range</th>\n",
       "      <th>Clusters</th>\n",
       "      <th>Clusters Category</th>\n",
       "    </tr>\n",
       "  </thead>\n",
       "  <tbody>\n",
       "    <tr>\n",
       "      <th>0</th>\n",
       "      <td>fe51c153-fbec-4b64-9b00-2530035ef0e1_981fa431-...</td>\n",
       "      <td>Male</td>\n",
       "      <td>1996-10-21</td>\n",
       "      <td>25</td>\n",
       "      <td>20 - 29</td>\n",
       "      <td>parttime</td>\n",
       "      <td>15695.79</td>\n",
       "      <td>10K - 20K</td>\n",
       "      <td>Single</td>\n",
       "      <td>With Parent</td>\n",
       "      <td>...</td>\n",
       "      <td>6278.32</td>\n",
       "      <td>2018-03-01</td>\n",
       "      <td>Income</td>\n",
       "      <td>1354</td>\n",
       "      <td>DDA</td>\n",
       "      <td>12215.43</td>\n",
       "      <td>CAD</td>\n",
       "      <td>10K-20K</td>\n",
       "      <td>3</td>\n",
       "      <td>Cluster 4</td>\n",
       "    </tr>\n",
       "    <tr>\n",
       "      <th>1</th>\n",
       "      <td>fe51c153-fbec-4b64-9b00-2530035ef0e1_981fa431-...</td>\n",
       "      <td>Male</td>\n",
       "      <td>1996-10-21</td>\n",
       "      <td>25</td>\n",
       "      <td>20 - 29</td>\n",
       "      <td>parttime</td>\n",
       "      <td>15695.79</td>\n",
       "      <td>10K - 20K</td>\n",
       "      <td>Single</td>\n",
       "      <td>With Parent</td>\n",
       "      <td>...</td>\n",
       "      <td>6278.32</td>\n",
       "      <td>2018-03-01</td>\n",
       "      <td>Income</td>\n",
       "      <td>1354</td>\n",
       "      <td>SDA</td>\n",
       "      <td>6328.32</td>\n",
       "      <td>CAD</td>\n",
       "      <td>2K-10K</td>\n",
       "      <td>3</td>\n",
       "      <td>Cluster 4</td>\n",
       "    </tr>\n",
       "    <tr>\n",
       "      <th>2</th>\n",
       "      <td>fe51c153-fbec-4b64-9b00-2530035ef0e1_4ee15e88-...</td>\n",
       "      <td>Male</td>\n",
       "      <td>1935-04-05</td>\n",
       "      <td>86</td>\n",
       "      <td>Above 70</td>\n",
       "      <td>other</td>\n",
       "      <td>25078.90</td>\n",
       "      <td>20K - 30K</td>\n",
       "      <td>Married</td>\n",
       "      <td>With Spouse</td>\n",
       "      <td>...</td>\n",
       "      <td>10031.56</td>\n",
       "      <td>2018-03-01</td>\n",
       "      <td>Transfer</td>\n",
       "      <td>658</td>\n",
       "      <td>DDA</td>\n",
       "      <td>4292.99</td>\n",
       "      <td>CAD</td>\n",
       "      <td>2K-10K</td>\n",
       "      <td>4</td>\n",
       "      <td>Cluster 5</td>\n",
       "    </tr>\n",
       "    <tr>\n",
       "      <th>3</th>\n",
       "      <td>fe51c153-fbec-4b64-9b00-2530035ef0e1_4ee15e88-...</td>\n",
       "      <td>Male</td>\n",
       "      <td>1935-04-05</td>\n",
       "      <td>86</td>\n",
       "      <td>Above 70</td>\n",
       "      <td>other</td>\n",
       "      <td>25078.90</td>\n",
       "      <td>20K - 30K</td>\n",
       "      <td>Married</td>\n",
       "      <td>With Spouse</td>\n",
       "      <td>...</td>\n",
       "      <td>10031.56</td>\n",
       "      <td>2018-03-01</td>\n",
       "      <td>Transfer</td>\n",
       "      <td>658</td>\n",
       "      <td>SDA</td>\n",
       "      <td>10231.56</td>\n",
       "      <td>CAD</td>\n",
       "      <td>10K-20K</td>\n",
       "      <td>4</td>\n",
       "      <td>Cluster 5</td>\n",
       "    </tr>\n",
       "    <tr>\n",
       "      <th>4</th>\n",
       "      <td>fe51c153-fbec-4b64-9b00-2530035ef0e1_62d5c5a6-...</td>\n",
       "      <td>Male</td>\n",
       "      <td>1987-12-27</td>\n",
       "      <td>34</td>\n",
       "      <td>30 - 49</td>\n",
       "      <td>parttime</td>\n",
       "      <td>5051.31</td>\n",
       "      <td>Below 10K</td>\n",
       "      <td>Single</td>\n",
       "      <td>With Parent</td>\n",
       "      <td>...</td>\n",
       "      <td>48.00</td>\n",
       "      <td>2018-03-31</td>\n",
       "      <td>Transfer</td>\n",
       "      <td>1864</td>\n",
       "      <td>DDA</td>\n",
       "      <td>2904.83</td>\n",
       "      <td>CAD</td>\n",
       "      <td>2K-10K</td>\n",
       "      <td>3</td>\n",
       "      <td>Cluster 4</td>\n",
       "    </tr>\n",
       "  </tbody>\n",
       "</table>\n",
       "<p>5 rows × 21 columns</p>\n",
       "</div>"
      ],
      "text/plain": [
       "                                         Customer ID Gender         DOB  Age  \\\n",
       "0  fe51c153-fbec-4b64-9b00-2530035ef0e1_981fa431-...   Male  1996-10-21   25   \n",
       "1  fe51c153-fbec-4b64-9b00-2530035ef0e1_981fa431-...   Male  1996-10-21   25   \n",
       "2  fe51c153-fbec-4b64-9b00-2530035ef0e1_4ee15e88-...   Male  1935-04-05   86   \n",
       "3  fe51c153-fbec-4b64-9b00-2530035ef0e1_4ee15e88-...   Male  1935-04-05   86   \n",
       "4  fe51c153-fbec-4b64-9b00-2530035ef0e1_62d5c5a6-...   Male  1987-12-27   34   \n",
       "\n",
       "  Age Range Work Activity    Income Income Range Marital Status   Habitation  \\\n",
       "0   20 - 29      parttime  15695.79    10K - 20K         Single  With Parent   \n",
       "1   20 - 29      parttime  15695.79    10K - 20K         Single  With Parent   \n",
       "2  Above 70         other  25078.90    20K - 30K        Married  With Spouse   \n",
       "3  Above 70         other  25078.90    20K - 30K        Married  With Spouse   \n",
       "4   30 - 49      parttime   5051.31    Below 10K         Single  With Parent   \n",
       "\n",
       "   ... Trans Amount  Trans Date Trans Category Bank Branch  Account Type  \\\n",
       "0  ...      6278.32  2018-03-01         Income        1354           DDA   \n",
       "1  ...      6278.32  2018-03-01         Income        1354           SDA   \n",
       "2  ...     10031.56  2018-03-01       Transfer         658           DDA   \n",
       "3  ...     10031.56  2018-03-01       Transfer         658           SDA   \n",
       "4  ...        48.00  2018-03-31       Transfer        1864           DDA   \n",
       "\n",
       "  Account Balance  Currency Account Balance Range Clusters  Clusters Category  \n",
       "0        12215.43       CAD               10K-20K        3          Cluster 4  \n",
       "1         6328.32       CAD                2K-10K        3          Cluster 4  \n",
       "2         4292.99       CAD                2K-10K        4          Cluster 5  \n",
       "3        10231.56       CAD               10K-20K        4          Cluster 5  \n",
       "4         2904.83       CAD                2K-10K        3          Cluster 4  \n",
       "\n",
       "[5 rows x 21 columns]"
      ]
     },
     "execution_count": 78,
     "metadata": {},
     "output_type": "execute_result"
    }
   ],
   "source": [
    "# Running PCA with 36 PC\n",
    "pca = PCA(n_components=20, random_state = 453)\n",
    "X_r = pca.fit(X).transform(X)\n",
    "\n",
    "# Running Kmeans with 5 Ks\n",
    "kmeans = KMeans(n_clusters=5, random_state=2)\n",
    "kmeans = kmeans.fit(X_r)\n",
    "\n",
    "clusters = kmeans.labels_\n",
    "\n",
    "# Attachine the clusters back to our initial Dataset that has all the data\n",
    "raw_data['Clusters'] = clusters\n",
    "\n",
    "# Creating a cluster Category\n",
    "raw_data['Clusters Category'] = 'No Data'\n",
    "raw_data['Clusters Category'].loc[raw_data['Clusters'] == 0] = 'Cluster 1'\n",
    "raw_data['Clusters Category'].loc[raw_data['Clusters'] == 1] = 'Cluster 2'\n",
    "raw_data['Clusters Category'].loc[raw_data['Clusters'] == 2] = 'Cluster 3'\n",
    "raw_data['Clusters Category'].loc[raw_data['Clusters'] == 3] = 'Cluster 4'\n",
    "raw_data['Clusters Category'].loc[raw_data['Clusters'] == 4] = 'Cluster 5'\n",
    "\n",
    "\n",
    "raw_data.head(5)"
   ]
  },
  {
   "cell_type": "code",
   "execution_count": 79,
   "metadata": {},
   "outputs": [
    {
     "data": {
      "text/plain": [
       "Index(['Customer ID', 'Gender', 'DOB', 'Age', 'Age Range', 'Work Activity',\n",
       "       'Income', 'Income Range', 'Marital Status', 'Habitation',\n",
       "       'Trans Description', 'Trans Amount', 'Trans Date', 'Trans Category',\n",
       "       'Bank Branch', 'Account Type', 'Account Balance', 'Currency',\n",
       "       'Account Balance Range', 'Clusters', 'Clusters Category'],\n",
       "      dtype='object')"
      ]
     },
     "execution_count": 79,
     "metadata": {},
     "output_type": "execute_result"
    }
   ],
   "source": [
    "raw_data.columns"
   ]
  },
  {
   "cell_type": "code",
   "execution_count": 80,
   "metadata": {},
   "outputs": [
    {
     "name": "stderr",
     "output_type": "stream",
     "text": [
      "C:\\Users\\karab\\anaconda3\\lib\\site-packages\\pandas\\core\\indexing.py:671: SettingWithCopyWarning: \n",
      "A value is trying to be set on a copy of a slice from a DataFrame\n",
      "\n",
      "See the caveats in the documentation: https://pandas.pydata.org/pandas-docs/stable/user_guide/indexing.html#returning-a-view-versus-a-copy\n",
      "  self._setitem_with_indexer(indexer, value)\n"
     ]
    }
   ],
   "source": [
    "# Creating an order for Income\n",
    "\n",
    "raw_data['Income Order'] = 0\n",
    "raw_data['Income Order'].loc[raw_data['Income Range'] == 'Below 10K'] = 1\n",
    "raw_data['Income Order'].loc[raw_data['Income Range'] == '10K - 20K'] = 2\n",
    "raw_data['Income Order'].loc[raw_data['Income Range'] == '20K - 30K'] = 3\n",
    "raw_data['Income Order'].loc[raw_data['Income Range'] == '30K - 40K'] = 4\n",
    "raw_data['Income Order'].loc[raw_data['Income Range'] == '40K - 70K'] = 5\n",
    "raw_data['Income Order'].loc[raw_data['Income Range'] == 'Above 70K'] = 6\n",
    "\n",
    "# Creating an order for Account Balance Range\n",
    "raw_data['Account Balance Range Order'] = 0\n",
    "raw_data['Account Balance Range Order'].loc[raw_data['Account Balance Range'] == 'Below 2K'] = 1\n",
    "raw_data['Account Balance Range Order'].loc[raw_data['Account Balance Range'] == '2K-10K'] = 2\n",
    "raw_data['Account Balance Range Order'].loc[raw_data['Account Balance Range'] == '10K-20K'] = 3\n",
    "raw_data['Account Balance Range Order'].loc[raw_data['Account Balance Range'] == 'Above 20K'] = 4\n",
    "\n",
    "# Creating an order for Age Range\n",
    "raw_data['Age Range Order'] = 0\n",
    "raw_data['Age Range Order'].loc[raw_data['Age Range'] == 'Below 20'] = 1\n",
    "raw_data['Age Range Order'].loc[raw_data['Age Range'] == '20 - 29'] = 2\n",
    "raw_data['Age Range Order'].loc[raw_data['Age Range'] == '30 - 49'] = 3\n",
    "raw_data['Age Range Order'].loc[raw_data['Age Range'] == '50 - 69'] = 4\n",
    "raw_data['Age Range Order'].loc[raw_data['Age Range'] == 'Above 70'] = 5\n",
    "\n"
   ]
  },
  {
   "cell_type": "code",
   "execution_count": 84,
   "metadata": {},
   "outputs": [],
   "source": [
    "# Exporting the data in a CSV\n",
    "\n",
    "raw_data.to_csv('Bank_Cluster_Output.csv', sep=',')"
   ]
  },
  {
   "cell_type": "code",
   "execution_count": 82,
   "metadata": {},
   "outputs": [
    {
     "data": {
      "text/html": [
       "<div>\n",
       "<style scoped>\n",
       "    .dataframe tbody tr th:only-of-type {\n",
       "        vertical-align: middle;\n",
       "    }\n",
       "\n",
       "    .dataframe tbody tr th {\n",
       "        vertical-align: top;\n",
       "    }\n",
       "\n",
       "    .dataframe thead th {\n",
       "        text-align: right;\n",
       "    }\n",
       "</style>\n",
       "<table border=\"1\" class=\"dataframe\">\n",
       "  <thead>\n",
       "    <tr style=\"text-align: right;\">\n",
       "      <th></th>\n",
       "      <th>Customer ID</th>\n",
       "      <th>Gender</th>\n",
       "      <th>DOB</th>\n",
       "      <th>Age</th>\n",
       "      <th>Age Range</th>\n",
       "      <th>Work Activity</th>\n",
       "      <th>Income</th>\n",
       "      <th>Income Range</th>\n",
       "      <th>Marital Status</th>\n",
       "      <th>Habitation</th>\n",
       "      <th>...</th>\n",
       "      <th>Bank Branch</th>\n",
       "      <th>Account Type</th>\n",
       "      <th>Account Balance</th>\n",
       "      <th>Currency</th>\n",
       "      <th>Account Balance Range</th>\n",
       "      <th>Clusters</th>\n",
       "      <th>Clusters Category</th>\n",
       "      <th>Income Order</th>\n",
       "      <th>Account Balance Range Order</th>\n",
       "      <th>Age Range Order</th>\n",
       "    </tr>\n",
       "  </thead>\n",
       "  <tbody>\n",
       "    <tr>\n",
       "      <th>0</th>\n",
       "      <td>fe51c153-fbec-4b64-9b00-2530035ef0e1_981fa431-...</td>\n",
       "      <td>Male</td>\n",
       "      <td>1996-10-21</td>\n",
       "      <td>25</td>\n",
       "      <td>20 - 29</td>\n",
       "      <td>parttime</td>\n",
       "      <td>15695.79</td>\n",
       "      <td>10K - 20K</td>\n",
       "      <td>Single</td>\n",
       "      <td>With Parent</td>\n",
       "      <td>...</td>\n",
       "      <td>1354</td>\n",
       "      <td>DDA</td>\n",
       "      <td>12215.43</td>\n",
       "      <td>CAD</td>\n",
       "      <td>10K-20K</td>\n",
       "      <td>3</td>\n",
       "      <td>Cluster 4</td>\n",
       "      <td>2</td>\n",
       "      <td>3</td>\n",
       "      <td>2</td>\n",
       "    </tr>\n",
       "    <tr>\n",
       "      <th>1</th>\n",
       "      <td>fe51c153-fbec-4b64-9b00-2530035ef0e1_981fa431-...</td>\n",
       "      <td>Male</td>\n",
       "      <td>1996-10-21</td>\n",
       "      <td>25</td>\n",
       "      <td>20 - 29</td>\n",
       "      <td>parttime</td>\n",
       "      <td>15695.79</td>\n",
       "      <td>10K - 20K</td>\n",
       "      <td>Single</td>\n",
       "      <td>With Parent</td>\n",
       "      <td>...</td>\n",
       "      <td>1354</td>\n",
       "      <td>SDA</td>\n",
       "      <td>6328.32</td>\n",
       "      <td>CAD</td>\n",
       "      <td>2K-10K</td>\n",
       "      <td>3</td>\n",
       "      <td>Cluster 4</td>\n",
       "      <td>2</td>\n",
       "      <td>2</td>\n",
       "      <td>2</td>\n",
       "    </tr>\n",
       "    <tr>\n",
       "      <th>2</th>\n",
       "      <td>fe51c153-fbec-4b64-9b00-2530035ef0e1_4ee15e88-...</td>\n",
       "      <td>Male</td>\n",
       "      <td>1935-04-05</td>\n",
       "      <td>86</td>\n",
       "      <td>Above 70</td>\n",
       "      <td>other</td>\n",
       "      <td>25078.90</td>\n",
       "      <td>20K - 30K</td>\n",
       "      <td>Married</td>\n",
       "      <td>With Spouse</td>\n",
       "      <td>...</td>\n",
       "      <td>658</td>\n",
       "      <td>DDA</td>\n",
       "      <td>4292.99</td>\n",
       "      <td>CAD</td>\n",
       "      <td>2K-10K</td>\n",
       "      <td>4</td>\n",
       "      <td>Cluster 5</td>\n",
       "      <td>3</td>\n",
       "      <td>2</td>\n",
       "      <td>5</td>\n",
       "    </tr>\n",
       "    <tr>\n",
       "      <th>3</th>\n",
       "      <td>fe51c153-fbec-4b64-9b00-2530035ef0e1_4ee15e88-...</td>\n",
       "      <td>Male</td>\n",
       "      <td>1935-04-05</td>\n",
       "      <td>86</td>\n",
       "      <td>Above 70</td>\n",
       "      <td>other</td>\n",
       "      <td>25078.90</td>\n",
       "      <td>20K - 30K</td>\n",
       "      <td>Married</td>\n",
       "      <td>With Spouse</td>\n",
       "      <td>...</td>\n",
       "      <td>658</td>\n",
       "      <td>SDA</td>\n",
       "      <td>10231.56</td>\n",
       "      <td>CAD</td>\n",
       "      <td>10K-20K</td>\n",
       "      <td>4</td>\n",
       "      <td>Cluster 5</td>\n",
       "      <td>3</td>\n",
       "      <td>3</td>\n",
       "      <td>5</td>\n",
       "    </tr>\n",
       "    <tr>\n",
       "      <th>4</th>\n",
       "      <td>fe51c153-fbec-4b64-9b00-2530035ef0e1_62d5c5a6-...</td>\n",
       "      <td>Male</td>\n",
       "      <td>1987-12-27</td>\n",
       "      <td>34</td>\n",
       "      <td>30 - 49</td>\n",
       "      <td>parttime</td>\n",
       "      <td>5051.31</td>\n",
       "      <td>Below 10K</td>\n",
       "      <td>Single</td>\n",
       "      <td>With Parent</td>\n",
       "      <td>...</td>\n",
       "      <td>1864</td>\n",
       "      <td>DDA</td>\n",
       "      <td>2904.83</td>\n",
       "      <td>CAD</td>\n",
       "      <td>2K-10K</td>\n",
       "      <td>3</td>\n",
       "      <td>Cluster 4</td>\n",
       "      <td>1</td>\n",
       "      <td>2</td>\n",
       "      <td>3</td>\n",
       "    </tr>\n",
       "  </tbody>\n",
       "</table>\n",
       "<p>5 rows × 24 columns</p>\n",
       "</div>"
      ],
      "text/plain": [
       "                                         Customer ID Gender         DOB  Age  \\\n",
       "0  fe51c153-fbec-4b64-9b00-2530035ef0e1_981fa431-...   Male  1996-10-21   25   \n",
       "1  fe51c153-fbec-4b64-9b00-2530035ef0e1_981fa431-...   Male  1996-10-21   25   \n",
       "2  fe51c153-fbec-4b64-9b00-2530035ef0e1_4ee15e88-...   Male  1935-04-05   86   \n",
       "3  fe51c153-fbec-4b64-9b00-2530035ef0e1_4ee15e88-...   Male  1935-04-05   86   \n",
       "4  fe51c153-fbec-4b64-9b00-2530035ef0e1_62d5c5a6-...   Male  1987-12-27   34   \n",
       "\n",
       "  Age Range Work Activity    Income Income Range Marital Status   Habitation  \\\n",
       "0   20 - 29      parttime  15695.79    10K - 20K         Single  With Parent   \n",
       "1   20 - 29      parttime  15695.79    10K - 20K         Single  With Parent   \n",
       "2  Above 70         other  25078.90    20K - 30K        Married  With Spouse   \n",
       "3  Above 70         other  25078.90    20K - 30K        Married  With Spouse   \n",
       "4   30 - 49      parttime   5051.31    Below 10K         Single  With Parent   \n",
       "\n",
       "   ... Bank Branch  Account Type Account Balance Currency  \\\n",
       "0  ...        1354           DDA        12215.43      CAD   \n",
       "1  ...        1354           SDA         6328.32      CAD   \n",
       "2  ...         658           DDA         4292.99      CAD   \n",
       "3  ...         658           SDA        10231.56      CAD   \n",
       "4  ...        1864           DDA         2904.83      CAD   \n",
       "\n",
       "   Account Balance Range Clusters  Clusters Category Income Order  \\\n",
       "0                10K-20K        3          Cluster 4            2   \n",
       "1                 2K-10K        3          Cluster 4            2   \n",
       "2                 2K-10K        4          Cluster 5            3   \n",
       "3                10K-20K        4          Cluster 5            3   \n",
       "4                 2K-10K        3          Cluster 4            1   \n",
       "\n",
       "  Account Balance Range Order  Age Range Order  \n",
       "0                           3                2  \n",
       "1                           2                2  \n",
       "2                           2                5  \n",
       "3                           3                5  \n",
       "4                           2                3  \n",
       "\n",
       "[5 rows x 24 columns]"
      ]
     },
     "execution_count": 82,
     "metadata": {},
     "output_type": "execute_result"
    }
   ],
   "source": [
    "raw_data.head()"
   ]
  },
  {
   "cell_type": "code",
   "execution_count": null,
   "metadata": {},
   "outputs": [],
   "source": []
  }
 ],
 "metadata": {
  "kernelspec": {
   "display_name": "Python 3",
   "language": "python",
   "name": "python3"
  },
  "language_info": {
   "codemirror_mode": {
    "name": "ipython",
    "version": 3
   },
   "file_extension": ".py",
   "mimetype": "text/x-python",
   "name": "python",
   "nbconvert_exporter": "python",
   "pygments_lexer": "ipython3",
   "version": "3.8.3"
  }
 },
 "nbformat": 4,
 "nbformat_minor": 4
}
